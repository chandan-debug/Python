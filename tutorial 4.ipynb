{
 "cells": [
  {
   "cell_type": "code",
   "execution_count": 1,
   "id": "39ad812c",
   "metadata": {},
   "outputs": [],
   "source": [
    "# Dictionary\n",
    "# dictionary have key value pair from of data\n",
    "# dictionaries are ordered (python 3.7 and abover version)\n",
    "# does not support indexing \n",
    "# data can be accesed using key\n"
   ]
  },
  {
   "cell_type": "code",
   "execution_count": 2,
   "id": "5e798f51",
   "metadata": {},
   "outputs": [
    {
     "name": "stdout",
     "output_type": "stream",
     "text": [
      "<class 'dict'>\n",
      "{}\n"
     ]
    }
   ],
   "source": [
    "d={}\n",
    "print(type(d))\n",
    "print(d)"
   ]
  },
  {
   "cell_type": "code",
   "execution_count": 3,
   "id": "e14a5eed",
   "metadata": {},
   "outputs": [
    {
     "name": "stdout",
     "output_type": "stream",
     "text": [
      "<class 'dict'>\n"
     ]
    }
   ],
   "source": [
    "d=dict()\n",
    "print(type(d))"
   ]
  },
  {
   "cell_type": "code",
   "execution_count": 4,
   "id": "bc2d6595",
   "metadata": {},
   "outputs": [],
   "source": [
    "fruits={\n",
    "    \"Apple\":120,\n",
    "    \"mango\":100,\n",
    "    \"pineapple\":90\n",
    "}"
   ]
  },
  {
   "cell_type": "code",
   "execution_count": 6,
   "id": "fa6a0a26",
   "metadata": {},
   "outputs": [
    {
     "data": {
      "text/plain": [
       "dict"
      ]
     },
     "execution_count": 6,
     "metadata": {},
     "output_type": "execute_result"
    }
   ],
   "source": [
    "type(fruits)"
   ]
  },
  {
   "cell_type": "code",
   "execution_count": 7,
   "id": "7b0d0987",
   "metadata": {},
   "outputs": [
    {
     "name": "stdout",
     "output_type": "stream",
     "text": [
      "{'Apple': 120, 'mango': 100, 'pineapple': 90}\n"
     ]
    }
   ],
   "source": [
    "print(fruits)"
   ]
  },
  {
   "cell_type": "code",
   "execution_count": 8,
   "id": "9523bbdd",
   "metadata": {},
   "outputs": [],
   "source": [
    "# zip\n",
    "name=[\"apple\",\"pineapple\",\"banana\"]\n",
    "prices=[120,100,80]\n"
   ]
  },
  {
   "cell_type": "code",
   "execution_count": 9,
   "id": "330c8c3c",
   "metadata": {},
   "outputs": [
    {
     "name": "stdout",
     "output_type": "stream",
     "text": [
      "{'apple': 120, 'pineapple': 100, 'banana': 80}\n"
     ]
    }
   ],
   "source": [
    "fruit=dict(zip(name,prices))\n",
    "print(fruit)"
   ]
  },
  {
   "cell_type": "code",
   "execution_count": 10,
   "id": "ff9a57ef",
   "metadata": {},
   "outputs": [
    {
     "data": {
      "text/plain": [
       "3"
      ]
     },
     "execution_count": 10,
     "metadata": {},
     "output_type": "execute_result"
    }
   ],
   "source": [
    "len(fruit)"
   ]
  },
  {
   "cell_type": "code",
   "execution_count": 11,
   "id": "48aa5412",
   "metadata": {},
   "outputs": [
    {
     "data": {
      "text/plain": [
       "120"
      ]
     },
     "execution_count": 11,
     "metadata": {},
     "output_type": "execute_result"
    }
   ],
   "source": [
    "# indexing\n",
    "fruit[\"apple\"]"
   ]
  },
  {
   "cell_type": "code",
   "execution_count": 12,
   "id": "f143f47c",
   "metadata": {},
   "outputs": [
    {
     "data": {
      "text/plain": [
       "100"
      ]
     },
     "execution_count": 12,
     "metadata": {},
     "output_type": "execute_result"
    }
   ],
   "source": [
    "fruit.get(\"pineapple\")"
   ]
  },
  {
   "cell_type": "code",
   "execution_count": 15,
   "id": "7180834b",
   "metadata": {},
   "outputs": [],
   "source": [
    "fruit[\"pineapple\"]={\"small\":90,\"large\":120}"
   ]
  },
  {
   "cell_type": "code",
   "execution_count": 16,
   "id": "8d601b14",
   "metadata": {},
   "outputs": [
    {
     "data": {
      "text/plain": [
       "{'apple': 120, 'pineapple': {'small': 90, 'large': 120}, 'banana': 80}"
      ]
     },
     "execution_count": 16,
     "metadata": {},
     "output_type": "execute_result"
    }
   ],
   "source": [
    "fruit"
   ]
  },
  {
   "cell_type": "code",
   "execution_count": 17,
   "id": "6c9f00d1",
   "metadata": {},
   "outputs": [
    {
     "data": {
      "text/plain": [
       "{'apple': 120,\n",
       " 'pineapple': {'small': 90, 'large': 120},\n",
       " 'banana': 80,\n",
       " 'guava': 80}"
      ]
     },
     "execution_count": 17,
     "metadata": {},
     "output_type": "execute_result"
    }
   ],
   "source": [
    "fruit[\"guava\"]=80\n",
    "fruit"
   ]
  },
  {
   "cell_type": "code",
   "execution_count": 18,
   "id": "adab56c3",
   "metadata": {},
   "outputs": [],
   "source": [
    "new={\"grapes\":150,\"oranges\":180}"
   ]
  },
  {
   "cell_type": "code",
   "execution_count": 20,
   "id": "86a91035",
   "metadata": {},
   "outputs": [],
   "source": [
    "fruit.update(new)"
   ]
  },
  {
   "cell_type": "code",
   "execution_count": 21,
   "id": "e75b4605",
   "metadata": {},
   "outputs": [
    {
     "data": {
      "text/plain": [
       "{'apple': 120,\n",
       " 'pineapple': {'small': 90, 'large': 120},\n",
       " 'banana': 80,\n",
       " 'guava': 80,\n",
       " 'grapes': 150,\n",
       " 'oranges': 180}"
      ]
     },
     "execution_count": 21,
     "metadata": {},
     "output_type": "execute_result"
    }
   ],
   "source": [
    "fruit"
   ]
  },
  {
   "cell_type": "code",
   "execution_count": 22,
   "id": "85cfa94e",
   "metadata": {},
   "outputs": [
    {
     "data": {
      "text/plain": [
       "True"
      ]
     },
     "execution_count": 22,
     "metadata": {},
     "output_type": "execute_result"
    }
   ],
   "source": [
    "\"apple\" in fruit"
   ]
  },
  {
   "cell_type": "code",
   "execution_count": 23,
   "id": "536b77cc",
   "metadata": {},
   "outputs": [
    {
     "data": {
      "text/plain": [
       "80"
      ]
     },
     "execution_count": 23,
     "metadata": {},
     "output_type": "execute_result"
    }
   ],
   "source": [
    "fruit.pop(\"guava\")"
   ]
  },
  {
   "cell_type": "code",
   "execution_count": 24,
   "id": "dac128e2",
   "metadata": {},
   "outputs": [
    {
     "data": {
      "text/plain": [
       "{'apple': 120,\n",
       " 'pineapple': {'small': 90, 'large': 120},\n",
       " 'banana': 80,\n",
       " 'grapes': 150,\n",
       " 'oranges': 180}"
      ]
     },
     "execution_count": 24,
     "metadata": {},
     "output_type": "execute_result"
    }
   ],
   "source": [
    "fruit"
   ]
  },
  {
   "cell_type": "code",
   "execution_count": 25,
   "id": "c2a4a683",
   "metadata": {},
   "outputs": [
    {
     "name": "stdout",
     "output_type": "stream",
     "text": [
      "apple\n",
      "pineapple\n",
      "banana\n",
      "grapes\n",
      "oranges\n"
     ]
    }
   ],
   "source": [
    "for i in fruit:\n",
    "    print(i)"
   ]
  },
  {
   "cell_type": "code",
   "execution_count": 26,
   "id": "8a6e0cbd",
   "metadata": {},
   "outputs": [
    {
     "name": "stdout",
     "output_type": "stream",
     "text": [
      "120\n",
      "{'small': 90, 'large': 120}\n",
      "80\n",
      "150\n",
      "180\n"
     ]
    }
   ],
   "source": [
    "for i in fruit:\n",
    "    print(fruit[i])"
   ]
  },
  {
   "cell_type": "code",
   "execution_count": 27,
   "id": "c1592fdd",
   "metadata": {},
   "outputs": [
    {
     "name": "stdout",
     "output_type": "stream",
     "text": [
      "apple 120\n",
      "pineapple {'small': 90, 'large': 120}\n",
      "banana 80\n",
      "grapes 150\n",
      "oranges 180\n"
     ]
    }
   ],
   "source": [
    "for i in fruit:\n",
    "    print(i,fruit[i])"
   ]
  },
  {
   "cell_type": "code",
   "execution_count": 28,
   "id": "4c24c265",
   "metadata": {},
   "outputs": [
    {
     "name": "stdout",
     "output_type": "stream",
     "text": [
      "Chandan Mahato\n",
      "{'C': 1, 'h': 2, 'a': 4, 'n': 2, 'd': 1, ' ': 1, 'M': 1, 't': 1, 'o': 1}\n"
     ]
    }
   ],
   "source": [
    "name=input()\n",
    "freq={}\n",
    "for i in name:\n",
    "    if i not in freq:\n",
    "        freq[i]=1\n",
    "    else:\n",
    "        freq[i]+=1\n",
    "        \n",
    "print(freq)"
   ]
  },
  {
   "cell_type": "code",
   "execution_count": 1,
   "id": "40d8bf81",
   "metadata": {},
   "outputs": [],
   "source": [
    "# sets\n",
    "# unique collections\n",
    "# unordered\n",
    "# unindexed\n",
    "# mutable\n"
   ]
  },
  {
   "cell_type": "code",
   "execution_count": 2,
   "id": "a5ea5353",
   "metadata": {},
   "outputs": [
    {
     "name": "stdout",
     "output_type": "stream",
     "text": [
      "set()\n"
     ]
    }
   ],
   "source": [
    "s=set()\n",
    "type(s)\n",
    "print(s)"
   ]
  },
  {
   "cell_type": "code",
   "execution_count": 3,
   "id": "9d2518cd",
   "metadata": {},
   "outputs": [],
   "source": [
    "s={1,2,3,1,3,2,4,5}"
   ]
  },
  {
   "cell_type": "code",
   "execution_count": 4,
   "id": "efffdbec",
   "metadata": {},
   "outputs": [
    {
     "name": "stdout",
     "output_type": "stream",
     "text": [
      "{1, 2, 3, 4, 5}\n"
     ]
    }
   ],
   "source": [
    "print(s)"
   ]
  },
  {
   "cell_type": "code",
   "execution_count": 5,
   "id": "37586afd",
   "metadata": {},
   "outputs": [
    {
     "data": {
      "text/plain": [
       "{'a', 'c', 'd', 'h', 'n'}"
      ]
     },
     "execution_count": 5,
     "metadata": {},
     "output_type": "execute_result"
    }
   ],
   "source": [
    "s=set(\"chandan\")\n",
    "s"
   ]
  },
  {
   "cell_type": "code",
   "execution_count": 6,
   "id": "f74b9878",
   "metadata": {},
   "outputs": [
    {
     "name": "stdout",
     "output_type": "stream",
     "text": [
      "d\n",
      "h\n",
      "n\n",
      "a\n",
      "c\n"
     ]
    }
   ],
   "source": [
    "for i in s:\n",
    "    print(i)"
   ]
  },
  {
   "cell_type": "code",
   "execution_count": 7,
   "id": "953ce5ac",
   "metadata": {},
   "outputs": [
    {
     "data": {
      "text/plain": [
       "{8, 9, 'a', 'c', 'd', 'h', 'n'}"
      ]
     },
     "execution_count": 7,
     "metadata": {},
     "output_type": "execute_result"
    }
   ],
   "source": [
    "s.add(8)\n",
    "s.add(8)\n",
    "s.add(9)\n",
    "s"
   ]
  },
  {
   "cell_type": "code",
   "execution_count": 10,
   "id": "91b8c244",
   "metadata": {},
   "outputs": [],
   "source": [
    "name=\"mahato\"\n",
    "s.update(name)"
   ]
  },
  {
   "cell_type": "code",
   "execution_count": 11,
   "id": "0a3b049d",
   "metadata": {},
   "outputs": [
    {
     "data": {
      "text/plain": [
       "{8, 9, 'a', 'c', 'd', 'h', 'm', 'n', 'o', 't'}"
      ]
     },
     "execution_count": 11,
     "metadata": {},
     "output_type": "execute_result"
    }
   ],
   "source": [
    "s"
   ]
  },
  {
   "cell_type": "code",
   "execution_count": 12,
   "id": "0528ba5b",
   "metadata": {},
   "outputs": [
    {
     "data": {
      "text/plain": [
       "'d'"
      ]
     },
     "execution_count": 12,
     "metadata": {},
     "output_type": "execute_result"
    }
   ],
   "source": [
    "s.pop()"
   ]
  },
  {
   "cell_type": "code",
   "execution_count": 13,
   "id": "3113331b",
   "metadata": {},
   "outputs": [
    {
     "data": {
      "text/plain": [
       "'h'"
      ]
     },
     "execution_count": 13,
     "metadata": {},
     "output_type": "execute_result"
    }
   ],
   "source": [
    "s.pop()"
   ]
  },
  {
   "cell_type": "code",
   "execution_count": 14,
   "id": "58337dfc",
   "metadata": {},
   "outputs": [],
   "source": [
    "s.remove(\"c\")"
   ]
  },
  {
   "cell_type": "code",
   "execution_count": 15,
   "id": "1f311f10",
   "metadata": {},
   "outputs": [
    {
     "data": {
      "text/plain": [
       "{8, 9, 'a', 'm', 'n', 'o', 't'}"
      ]
     },
     "execution_count": 15,
     "metadata": {},
     "output_type": "execute_result"
    }
   ],
   "source": [
    "s"
   ]
  },
  {
   "cell_type": "code",
   "execution_count": 16,
   "id": "0ef4ea76",
   "metadata": {},
   "outputs": [],
   "source": [
    "python={\"iron man\",\"hulk\",\"spidy\",\"rahul\"}\n",
    "java={\"iron man\",\"harry potter\",\"ant man\"}"
   ]
  },
  {
   "cell_type": "code",
   "execution_count": 18,
   "id": "6c22d6e7",
   "metadata": {},
   "outputs": [
    {
     "data": {
      "text/plain": [
       "{'iron man'}"
      ]
     },
     "execution_count": 18,
     "metadata": {},
     "output_type": "execute_result"
    }
   ],
   "source": [
    "python.intersection(java)"
   ]
  },
  {
   "cell_type": "code",
   "execution_count": 19,
   "id": "6ef343fb",
   "metadata": {},
   "outputs": [
    {
     "data": {
      "text/plain": [
       "{'iron man'}"
      ]
     },
     "execution_count": 19,
     "metadata": {},
     "output_type": "execute_result"
    }
   ],
   "source": [
    "java.intersection(python)"
   ]
  },
  {
   "cell_type": "code",
   "execution_count": 20,
   "id": "8db37af5",
   "metadata": {},
   "outputs": [
    {
     "data": {
      "text/plain": [
       "{'ant man', 'harry potter', 'hulk', 'iron man', 'rahul', 'spidy'}"
      ]
     },
     "execution_count": 20,
     "metadata": {},
     "output_type": "execute_result"
    }
   ],
   "source": [
    "python.union(java)"
   ]
  },
  {
   "cell_type": "code",
   "execution_count": 22,
   "id": "d77f1106",
   "metadata": {},
   "outputs": [
    {
     "data": {
      "text/plain": [
       "{'hulk', 'rahul', 'spidy'}"
      ]
     },
     "execution_count": 22,
     "metadata": {},
     "output_type": "execute_result"
    }
   ],
   "source": [
    "python.difference(java)"
   ]
  },
  {
   "cell_type": "code",
   "execution_count": 23,
   "id": "e798a854",
   "metadata": {},
   "outputs": [],
   "source": [
    "# unique character in set\n",
    "sent=\" I am a hero\""
   ]
  },
  {
   "cell_type": "code",
   "execution_count": 27,
   "id": "1324bbde",
   "metadata": {},
   "outputs": [],
   "source": [
    "lst=sent.split()\n",
    "lst\n",
    "s=set(lst)"
   ]
  },
  {
   "cell_type": "code",
   "execution_count": 28,
   "id": "b025f816",
   "metadata": {},
   "outputs": [
    {
     "data": {
      "text/plain": [
       "{'I', 'a', 'am', 'hero'}"
      ]
     },
     "execution_count": 28,
     "metadata": {},
     "output_type": "execute_result"
    }
   ],
   "source": [
    "s"
   ]
  },
  {
   "cell_type": "code",
   "execution_count": 29,
   "id": "963fecc8",
   "metadata": {},
   "outputs": [
    {
     "data": {
      "text/plain": [
       "4"
      ]
     },
     "execution_count": 29,
     "metadata": {},
     "output_type": "execute_result"
    }
   ],
   "source": [
    "len(s)"
   ]
  },
  {
   "cell_type": "code",
   "execution_count": 30,
   "id": "28a7b903",
   "metadata": {},
   "outputs": [],
   "source": [
    "# functions \n",
    "# function is a user define  piece of code.it works only when its called by user.it helps in reusablity of code and helps in reducing errors in your code \n",
    "def greet():\n",
    "    print(\" hi everyone \")"
   ]
  },
  {
   "cell_type": "code",
   "execution_count": 31,
   "id": "c1b4a4dd",
   "metadata": {},
   "outputs": [
    {
     "name": "stdout",
     "output_type": "stream",
     "text": [
      "<function greet at 0x000001DD1F34F380>\n"
     ]
    }
   ],
   "source": [
    "print(greet)"
   ]
  },
  {
   "cell_type": "code",
   "execution_count": 32,
   "id": "77b20249",
   "metadata": {},
   "outputs": [
    {
     "name": "stdout",
     "output_type": "stream",
     "text": [
      " hi everyone \n"
     ]
    }
   ],
   "source": [
    "greet()"
   ]
  },
  {
   "cell_type": "code",
   "execution_count": 33,
   "id": "3fcbbd4e",
   "metadata": {},
   "outputs": [],
   "source": [
    "# Docstring\n",
    "def greet():\n",
    "    print(\" hi everyone \")"
   ]
  },
  {
   "cell_type": "code",
   "execution_count": 34,
   "id": "10089478",
   "metadata": {},
   "outputs": [
    {
     "name": "stdout",
     "output_type": "stream",
     "text": [
      " hi everyone \n"
     ]
    }
   ],
   "source": [
    "greet()"
   ]
  },
  {
   "cell_type": "code",
   "execution_count": 35,
   "id": "d493ee4e",
   "metadata": {},
   "outputs": [],
   "source": [
    "# # parameters\n",
    "#  These are the place holders in  the function \n",
    "# when defining them we call them as parameters\n",
    "# when passing the actual value we call them as arguments\n",
    "\n",
    "\n"
   ]
  },
  {
   "cell_type": "code",
   "execution_count": 38,
   "id": "7f22ff0c",
   "metadata": {},
   "outputs": [],
   "source": [
    "def greet(name):\n",
    "    print(\" hi everyone \",name)"
   ]
  },
  {
   "cell_type": "code",
   "execution_count": 39,
   "id": "0df4c618",
   "metadata": {},
   "outputs": [
    {
     "name": "stdout",
     "output_type": "stream",
     "text": [
      " hi everyone  Chandan\n"
     ]
    }
   ],
   "source": [
    "greet(\"Chandan\")"
   ]
  },
  {
   "cell_type": "code",
   "execution_count": 40,
   "id": "c2d927c7",
   "metadata": {},
   "outputs": [],
   "source": [
    "def add(a,b):\n",
    "    c=a+b\n",
    "    print(c)"
   ]
  },
  {
   "cell_type": "code",
   "execution_count": 41,
   "id": "caf0210a",
   "metadata": {},
   "outputs": [
    {
     "name": "stdout",
     "output_type": "stream",
     "text": [
      "5\n"
     ]
    }
   ],
   "source": [
    "add(2,3)"
   ]
  },
  {
   "cell_type": "code",
   "execution_count": 42,
   "id": "1e5d0144",
   "metadata": {},
   "outputs": [],
   "source": [
    "# Return\n",
    "# A function  call ends when return statement is executed\n",
    "# it returns the expressions back to th function\n",
    "# the code after return statement are not executed \n",
    "# if there is no return value then function return none"
   ]
  },
  {
   "cell_type": "code",
   "execution_count": 56,
   "id": "ad091ba5",
   "metadata": {},
   "outputs": [],
   "source": [
    "def add(a,b):\n",
    "    c=a+b\n",
    "    return c"
   ]
  },
  {
   "cell_type": "code",
   "execution_count": 44,
   "id": "caa7cacb",
   "metadata": {},
   "outputs": [
    {
     "data": {
      "text/plain": [
       "5"
      ]
     },
     "execution_count": 44,
     "metadata": {},
     "output_type": "execute_result"
    }
   ],
   "source": [
    "add(2,3)"
   ]
  },
  {
   "cell_type": "code",
   "execution_count": 45,
   "id": "51c0ffba",
   "metadata": {},
   "outputs": [],
   "source": [
    "def intro(name, age,hobby):\n",
    "    return name, age,hobby"
   ]
  },
  {
   "cell_type": "code",
   "execution_count": 48,
   "id": "f3bd8a24",
   "metadata": {},
   "outputs": [
    {
     "data": {
      "text/plain": [
       "('chandan', 22, 'cricket')"
      ]
     },
     "execution_count": 48,
     "metadata": {},
     "output_type": "execute_result"
    }
   ],
   "source": [
    "intro(\"chandan\",22,\"cricket\")"
   ]
  },
  {
   "cell_type": "code",
   "execution_count": 49,
   "id": "8ebca340",
   "metadata": {},
   "outputs": [],
   "source": [
    "# scope of variable \n",
    "# there are two scope of variable:global and local\n",
    "# gobal variable can be used anywhere in the program\n",
    "# local variable can only used locally inside a program(function)"
   ]
  },
  {
   "cell_type": "code",
   "execution_count": 52,
   "id": "59f7fa30",
   "metadata": {},
   "outputs": [
    {
     "name": "stdout",
     "output_type": "stream",
     "text": [
      "5\n",
      "5\n"
     ]
    }
   ],
   "source": [
    "#  global\n",
    "a=5\n",
    "def func():\n",
    "    print(a)\n",
    "func()\n",
    "print(a)"
   ]
  },
  {
   "cell_type": "code",
   "execution_count": 55,
   "id": "cd06d66c",
   "metadata": {},
   "outputs": [
    {
     "name": "stdout",
     "output_type": "stream",
     "text": [
      "3\n",
      "5\n"
     ]
    },
    {
     "ename": "NameError",
     "evalue": "name 'x' is not defined",
     "output_type": "error",
     "traceback": [
      "\u001b[1;31m---------------------------------------------------------------------------\u001b[0m",
      "\u001b[1;31mNameError\u001b[0m                                 Traceback (most recent call last)",
      "Cell \u001b[1;32mIn[55], line 9\u001b[0m\n\u001b[0;32m      7\u001b[0m func()\n\u001b[0;32m      8\u001b[0m \u001b[38;5;28mprint\u001b[39m(a)\n\u001b[1;32m----> 9\u001b[0m \u001b[38;5;28mprint\u001b[39m(\u001b[43mx\u001b[49m)\n",
      "\u001b[1;31mNameError\u001b[0m: name 'x' is not defined"
     ]
    }
   ],
   "source": [
    "\n",
    "# local\n",
    "a=5\n",
    "\n",
    "def func():\n",
    "    x=3\n",
    "    print(x)\n",
    "func()\n",
    "print(a)\n",
    "print(x)"
   ]
  },
  {
   "cell_type": "code",
   "execution_count": 58,
   "id": "a9311e71",
   "metadata": {},
   "outputs": [],
   "source": [
    "# lambda function\n",
    "# this are mainly used when we need nameless functions for short period of time "
   ]
  },
  {
   "cell_type": "code",
   "execution_count": 59,
   "id": "4b285f70",
   "metadata": {},
   "outputs": [],
   "source": [
    "def add(a,b):\n",
    "    c=a+b\n",
    "    return c"
   ]
  },
  {
   "cell_type": "code",
   "execution_count": 60,
   "id": "85f8368c",
   "metadata": {},
   "outputs": [
    {
     "data": {
      "text/plain": [
       "5"
      ]
     },
     "execution_count": 60,
     "metadata": {},
     "output_type": "execute_result"
    }
   ],
   "source": [
    "add(2,3)"
   ]
  },
  {
   "cell_type": "code",
   "execution_count": 61,
   "id": "b979a18d",
   "metadata": {},
   "outputs": [
    {
     "data": {
      "text/plain": [
       "7"
      ]
     },
     "execution_count": 61,
     "metadata": {},
     "output_type": "execute_result"
    }
   ],
   "source": [
    "(lambda a,b :a+b)(3,4)"
   ]
  },
  {
   "cell_type": "code",
   "execution_count": 62,
   "id": "168c3d99",
   "metadata": {},
   "outputs": [],
   "source": [
    "# print even\n",
    "def even(li):\n",
    "    for i in li:\n",
    "        if i%2==0:\n",
    "            print(i,end=\" \")"
   ]
  },
  {
   "cell_type": "code",
   "execution_count": 63,
   "id": "6b0e38e1",
   "metadata": {},
   "outputs": [],
   "source": [
    "lst=[12,3,4,5,79,9]"
   ]
  },
  {
   "cell_type": "code",
   "execution_count": 64,
   "id": "db228fcb",
   "metadata": {},
   "outputs": [
    {
     "name": "stdout",
     "output_type": "stream",
     "text": [
      "12 4 "
     ]
    }
   ],
   "source": [
    "even(lst)"
   ]
  },
  {
   "cell_type": "code",
   "execution_count": 65,
   "id": "aa75e260",
   "metadata": {},
   "outputs": [],
   "source": [
    "# oops\n",
    "class car:\n",
    "    pass"
   ]
  },
  {
   "cell_type": "code",
   "execution_count": 66,
   "id": "a50fb2d9",
   "metadata": {},
   "outputs": [],
   "source": [
    "honda=car()"
   ]
  },
  {
   "cell_type": "code",
   "execution_count": 67,
   "id": "bf7de445",
   "metadata": {},
   "outputs": [
    {
     "data": {
      "text/plain": [
       "__main__.car"
      ]
     },
     "execution_count": 67,
     "metadata": {},
     "output_type": "execute_result"
    }
   ],
   "source": [
    "type(honda)"
   ]
  },
  {
   "cell_type": "code",
   "execution_count": 68,
   "id": "47fba485",
   "metadata": {},
   "outputs": [],
   "source": [
    "class human:\n",
    "    def __init__(self):\n",
    "        print(\"this will always executed\")"
   ]
  },
  {
   "cell_type": "code",
   "execution_count": 69,
   "id": "05a4a7c8",
   "metadata": {},
   "outputs": [
    {
     "name": "stdout",
     "output_type": "stream",
     "text": [
      "this will always executed\n"
     ]
    }
   ],
   "source": [
    "chandan=human()"
   ]
  },
  {
   "cell_type": "code",
   "execution_count": 70,
   "id": "5b1c06f8",
   "metadata": {},
   "outputs": [
    {
     "name": "stdout",
     "output_type": "stream",
     "text": [
      "this will always executed\n"
     ]
    }
   ],
   "source": [
    "mahata=human()"
   ]
  },
  {
   "cell_type": "code",
   "execution_count": 71,
   "id": "9d9d2a45",
   "metadata": {},
   "outputs": [
    {
     "data": {
      "text/plain": [
       "__main__.human"
      ]
     },
     "execution_count": 71,
     "metadata": {},
     "output_type": "execute_result"
    }
   ],
   "source": [
    "type(chandan)"
   ]
  },
  {
   "cell_type": "code",
   "execution_count": 72,
   "id": "f3dc527a",
   "metadata": {},
   "outputs": [],
   "source": [
    "class human:\n",
    "    def __init__(self,name,age,hobby):\n",
    "        self.name=name\n",
    "        self.age=age\n",
    "        self.hobby=hobby"
   ]
  },
  {
   "cell_type": "code",
   "execution_count": 73,
   "id": "5bcf3bf9",
   "metadata": {},
   "outputs": [],
   "source": [
    "chandan=human(\"chandan\",22,\"cricket\")"
   ]
  },
  {
   "cell_type": "code",
   "execution_count": 74,
   "id": "4842a19f",
   "metadata": {},
   "outputs": [
    {
     "name": "stdout",
     "output_type": "stream",
     "text": [
      "<__main__.human object at 0x000001DD1FBA29D0>\n"
     ]
    }
   ],
   "source": [
    "print(chandan)"
   ]
  },
  {
   "cell_type": "code",
   "execution_count": 75,
   "id": "8e574fb8",
   "metadata": {},
   "outputs": [
    {
     "data": {
      "text/plain": [
       "'chandan'"
      ]
     },
     "execution_count": 75,
     "metadata": {},
     "output_type": "execute_result"
    }
   ],
   "source": [
    "chandan.name"
   ]
  },
  {
   "cell_type": "code",
   "execution_count": 76,
   "id": "36f6d653",
   "metadata": {},
   "outputs": [
    {
     "data": {
      "text/plain": [
       "22"
      ]
     },
     "execution_count": 76,
     "metadata": {},
     "output_type": "execute_result"
    }
   ],
   "source": [
    "chandan.age"
   ]
  },
  {
   "cell_type": "code",
   "execution_count": null,
   "id": "36a06e8d",
   "metadata": {},
   "outputs": [],
   "source": [
    "# # file handaling\n",
    "\n",
    "# a file is a container in a computer system for storing data \n",
    "# data is permanently stored\n",
    "\n",
    "# types of files \n",
    "# 1.text\n",
    "# 2.binary\n",
    "\n"
   ]
  }
 ],
 "metadata": {
  "kernelspec": {
   "display_name": "Python 3 (ipykernel)",
   "language": "python",
   "name": "python3"
  },
  "language_info": {
   "codemirror_mode": {
    "name": "ipython",
    "version": 3
   },
   "file_extension": ".py",
   "mimetype": "text/x-python",
   "name": "python",
   "nbconvert_exporter": "python",
   "pygments_lexer": "ipython3",
   "version": "3.11.4"
  }
 },
 "nbformat": 4,
 "nbformat_minor": 5
}
